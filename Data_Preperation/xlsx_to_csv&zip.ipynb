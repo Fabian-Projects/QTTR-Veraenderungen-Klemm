{
 "cells": [
  {
   "cell_type": "markdown",
   "metadata": {},
   "source": [
    "# XSLT Daten in eine CSV umwandeln"
   ]
  },
  {
   "cell_type": "code",
   "execution_count": 2,
   "metadata": {},
   "outputs": [
    {
     "name": "stdout",
     "output_type": "stream",
     "text": [
      "Umgewandelt: Q-TTR-Liste_20240811_komplett.xlsx -> Q-TTR-Liste_20240811_komplett.csv\n",
      "Umgewandelt: Q-TTR-Liste_20240211_komplett.xlsx -> Q-TTR-Liste_20240211_komplett.csv\n",
      "Umgewandelt: Q-TTR-Liste_20250211_komplett.xlsx -> Q-TTR-Liste_20250211_komplett.csv\n",
      "Umgewandelt: Q-TTR-Liste_20240511_komplett.xlsx -> Q-TTR-Liste_20240511_komplett.csv\n",
      "Umgewandelt: Q-TTR-Liste_20241211_komplett.xlsx -> Q-TTR-Liste_20241211_komplett.csv\n",
      "Umwandlung abgeschlossen!\n"
     ]
    }
   ],
   "source": [
    "import pandas as pd\n",
    "import os\n",
    "\n",
    "# Pfade definieren\n",
    "xlsx_ordner = \"/Users/fabi/Documents/BBA/6_Semester/Projekt_BBA/PingPong_Project/Data/xlsx_Daten\"\n",
    "csv_ordner = \"/Users/fabi/Documents/BBA/6_Semester/Projekt_BBA/PingPong_Project/Data/csv_Daten\"\n",
    "\n",
    "# Zielordner erstellen falls nötig\n",
    "if not os.path.exists(csv_ordner):\n",
    "    os.makedirs(csv_ordner)\n",
    "    print(f\"Ordner {csv_ordner} erstellt\")\n",
    "\n",
    "# Alle Dateien im Quellordner durchgehen\n",
    "for datei in os.listdir(xlsx_ordner):\n",
    "    if datei.endswith(\".xlsx\"):\n",
    "        # Pfade erstellen\n",
    "        xlsx_pfad = os.path.join(xlsx_ordner, datei)\n",
    "        csv_datei = datei.replace(\".xlsx\", \".csv\")\n",
    "        csv_pfad = os.path.join(csv_ordner, csv_datei)\n",
    "        \n",
    "        # Umwandeln\n",
    "        try:\n",
    "            df = pd.read_excel(xlsx_pfad)\n",
    "            df.to_csv(csv_pfad, index=False)\n",
    "            print(f\"Umgewandelt: {datei} -> {csv_datei}\")\n",
    "        except Exception as e:\n",
    "            print(f\"Fehler bei {datei}: {e}\")\n",
    "\n",
    "print(\"Umwandlung abgeschlossen!\")"
   ]
  },
  {
   "cell_type": "markdown",
   "metadata": {},
   "source": [
    "## Erstellen einer Zip Datei"
   ]
  },
  {
   "cell_type": "code",
   "execution_count": 2,
   "metadata": {},
   "outputs": [
    {
     "name": "stdout",
     "output_type": "stream",
     "text": [
      "Die Dateien wurden erfolgreich in /Users/fabi/Documents/BBA/6_Semester/Projekt_BBA/PingPong_Project/Data/csv_Daten/zip_csv_Daten.zip komprimiert.\n"
     ]
    }
   ],
   "source": [
    "import zipfile\n",
    "import os\n",
    "\n",
    "# Pfad zum Ordner mit den CSV-Dateien\n",
    "csv_ordner = '/Users/fabi/Documents/BBA/6_Semester/Projekt_BBA/PingPong_Project/Data/csv_Daten'\n",
    "# Pfad zur ZIP-Datei\n",
    "zip_datei = '/Users/fabi/Documents/BBA/6_Semester/Projekt_BBA/PingPong_Project/Data/csv_Daten/zip_csv_Daten.zip'\n",
    "\n",
    "# Erstelle eine ZIP-Datei\n",
    "with zipfile.ZipFile(zip_datei, 'w', zipfile.ZIP_DEFLATED) as zipf:\n",
    "    # Durchlaufe alle Dateien im Ordner\n",
    "    for root, dirs, files in os.walk(csv_ordner):\n",
    "        for file in files:\n",
    "            # Überprüfe, ob es sich um CSV-Dateien handelt\n",
    "            if file.endswith('.csv'):\n",
    "                # Pfad zur Datei\n",
    "                file_path = os.path.join(root, file)\n",
    "                # Relativer Pfad innerhalb der ZIP-Datei\n",
    "                rel_path = os.path.relpath(file_path, os.path.dirname(csv_ordner))\n",
    "                # Füge die Datei zur ZIP-Datei hinzu\n",
    "                zipf.write(file_path, rel_path)\n",
    "\n",
    "print(f\"Die Dateien wurden erfolgreich in {zip_datei} komprimiert.\")"
   ]
  },
  {
   "cell_type": "code",
   "execution_count": 3,
   "metadata": {},
   "outputs": [
    {
     "name": "stdout",
     "output_type": "stream",
     "text": [
      "Die Dateien wurden erfolgreich in /Users/fabi/Documents/BBA/6_Semester/Projekt_BBA/PingPong_Project/Data/xlsx_Daten/zip_xlsx_Daten.zip komprimiert.\n"
     ]
    }
   ],
   "source": [
    "# Pfad zum Ordner mit den CSV-Dateien\n",
    "xlsx_ordner = '/Users/fabi/Documents/BBA/6_Semester/Projekt_BBA/PingPong_Project/Data/xlsx_Daten'\n",
    "# Pfad zur ZIP-Datei\n",
    "zip_datei = '/Users/fabi/Documents/BBA/6_Semester/Projekt_BBA/PingPong_Project/Data/xlsx_Daten/zip_xlsx_Daten.zip'\n",
    "\n",
    "# Erstelle eine ZIP-Datei\n",
    "with zipfile.ZipFile(zip_datei, 'w', zipfile.ZIP_DEFLATED) as zipf:\n",
    "    # Durchlaufe alle Dateien im Ordner\n",
    "    for root, dirs, files in os.walk(xlsx_ordner):\n",
    "        for file in files:\n",
    "            # Überprüfe, ob es sich um xlsx-Dateien handelt\n",
    "            if file.endswith('.xlsx'):\n",
    "                # Pfad zur Datei\n",
    "                file_path = os.path.join(root, file)\n",
    "                # Relativer Pfad innerhalb der ZIP-Datei\n",
    "                rel_path = os.path.relpath(file_path, os.path.dirname(xlsx_ordner))\n",
    "                # Füge die Datei zur ZIP-Datei hinzu\n",
    "                zipf.write(file_path, rel_path)\n",
    "\n",
    "print(f\"Die Dateien wurden erfolgreich in {zip_datei} komprimiert.\")"
   ]
  },
  {
   "cell_type": "code",
   "execution_count": null,
   "metadata": {},
   "outputs": [],
   "source": []
  }
 ],
 "metadata": {
  "kernelspec": {
   "display_name": "Python 3",
   "language": "python",
   "name": "python3"
  },
  "language_info": {
   "codemirror_mode": {
    "name": "ipython",
    "version": 3
   },
   "file_extension": ".py",
   "mimetype": "text/x-python",
   "name": "python",
   "nbconvert_exporter": "python",
   "pygments_lexer": "ipython3",
   "version": "3.10.7"
  }
 },
 "nbformat": 4,
 "nbformat_minor": 2
}

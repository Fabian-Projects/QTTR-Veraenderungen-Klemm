{
 "cells": [
  {
   "cell_type": "markdown",
   "metadata": {},
   "source": [
    "# Definition großer QTTR-Veränderung\n",
    "\n",
    "QTTR steht für \"Quartals-TTR\" und bezieht sich auf das Tischtennis-Ranglistensystem in Deutschland. Der TTR-Wert (Tischtennis-Ranglistenwert) ist eine Kennzahl, die die Spielstärke eines Tischtennisspielers angibt.\n",
    "\n",
    "Eine große QTTR-Veränderung bedeutet eine signifikante Änderung des TTR-Werts eines Spielers von einem Quartal zum nächsten. Der Deutsche Tischtennisbund (DTTB) aktualisiert diese Werte quartalsweise, daher der Name \"Quartals-TTR\" oder QTTR.\n",
    "\n",
    "Als \"groß\" werden Veränderungen typischerweise angesehen, wenn sie:\n",
    "- mehr als 40-50 Punkte nach oben oder unten betragen\n",
    "- prozentual eine deutliche Abweichung vom vorherigen Wert darstellen (z.B. mehr als 5%)\n",
    "\n",
    "## Typische Schwankungsbreiten im QTTR-System\n",
    "\n",
    "### Grundlegende Schwankungen\n",
    "Bei normalen Spielen und typischem Spielverlauf liegt die Änderungskonstante für einen Erwachsenen standardmäßig bei 16 Punkten. Das bedeutet, dass der maximale Gewinn oder Verlust pro Spiel normalerweise 16 TTR-Punkte beträgt. \n",
    "\n",
    "### Einflussfaktoren auf die Schwankungsbreite\n",
    "Die Schwankungsbreite des TTR-Werts wird von mehreren Faktoren beeinflusst:\n",
    "\n",
    "1. **Alter des Spielers:** Jüngere Spieler haben eine höhere Änderungskonstante, da man ihnen eine schnellere Entwicklung der Spielstärke unterstellt:\n",
    "\n",
    "Unter 21-Jährige: Änderungskonstante von 20 Punkten (+4) <br>\n",
    "Unter 16-Jährige: Änderungskonstante von 24 Punkten (+4)\n",
    "\n",
    "2. **Längere Spielpausen:** Nach Inaktivität gelten folgende Regeln:\n",
    "- Nach 12 Monaten ohne Spiele erfolgt ein Abzug von 40 Punkten\n",
    "- Bei längerer Spielpause gibt es für jedes weitere Halbjahr einen Abzug von 20 Punkten\n",
    "- Der maximale Abzug wegen Inaktivität ist auf 120 Punkte begrenzt Tischtennistools\n",
    "\n",
    "Bei Spielern, die seit über einem Jahr nicht an TTR-relevanten Wettkämpfen teilgenommen haben, wird für die nächsten 15 Einzel ebenfalls +4 auf die Änderungskonstante addiert, um eine schnellere Anpassung an das tatsächliche Spielniveau zu ermöglichen.\n",
    "\n",
    "3. **TTR-Differenz zum Gegner:** Entscheidend für die Berechnung der Gewinnwahrscheinlichkeit und damit der Punkteänderung ist der Abstand zwischen den TTR-Werten beider Spieler. Bei einer Differenz von 224 TTR-Punkten oder mehr erhält der Favorit im Fall eines Sieges normalerweise keinen Punktezuwachs mehr, und der unterlegene Spieler bleibt ohne Punktverlust."
   ]
  },
  {
   "cell_type": "markdown",
   "metadata": {},
   "source": []
  }
 ],
 "metadata": {
  "language_info": {
   "name": "python"
  }
 },
 "nbformat": 4,
 "nbformat_minor": 2
}

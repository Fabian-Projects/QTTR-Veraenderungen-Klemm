{
 "cells": [
  {
   "cell_type": "markdown",
   "metadata": {},
   "source": [
    "# Große QTTR-Veränderungen und deren Ursachen\n",
    "## Projektziele und Forschungsrahmen\n",
    "### Hauptziel der Analyse\n",
    "\n",
    "Das Hauptziel dieser Forschung ist es, signifikante Veränderungen im Quartals-Tischtennis-Rating (QTTR) systematisch zu identifizieren, zu quantifizieren und deren Ursachen zu analysieren, um ein tieferes Verständnis der Dynamik des Bewertungssystems und seiner Auswirkungen auf die Spielerklassifizierung zu erlangen.\n",
    "\n",
    "1. **Definition und Quantifizierung großer QTTR-Veränderungen**\n",
    "\n",
    "* Etablierung objektiver Kriterien zur Definition \"großer\" QTTR-Veränderungen basierend auf statistischer Analyse der historischen Daten\n",
    "* Entwicklung eines Klassifizierungssystems für unterschiedliche Arten und Ausmaße von QTTR-Schwankungen (z.B. moderat, signifikant, extrem)\n",
    "* Bestimmung typischer Schwankungsbreiten in verschiedenen Spielstärkebereichen und Altersklassen\n",
    "\n",
    "2. **Identifikation von Ursachen und Mustern**\n",
    "\n",
    "* Systematische Analyse der Faktoren, die große QTTR-Veränderungen begünstigen (z.B. Spielpausen, intensive Turnierteilnahmen, Alterseffekte)\n",
    "* Untersuchung von saisonalen oder strukturellen Mustern in QTTR-Veränderungen\n",
    "* Korrelationsanalyse zwischen Spielhäufigkeit, Gegnerqualität und QTTR-Entwicklung\n",
    "\n",
    "3. **Vergleichende Analyse verschiedener Spielergruppen**\n",
    "\n",
    "* Untersuchung, ob und wie sich QTTR-Veränderungen zwischen verschiedenen Altersgruppen unterscheiden\n",
    "* Analyse von geschlechtsspezifischen Unterschieden in der QTTR-Volatilität\n",
    "* Vergleich der QTTR-Stabilität zwischen verschiedenen Spielniveaus (Anfänger bis Profi)\n",
    "\n",
    "4. **Evaluation der Prädiktivkraft des QTTR-Systems**\n",
    "\n",
    "* Bewertung, inwiefern große QTTR-Veränderungen tatsächliche Leistungsveränderungen widerspiegeln oder systematische Artefakte darstellen\n",
    "* Analyse der Vorhersagekraft des QTTR-Werts für zukünftige Spielergebnisse\n",
    "* Untersuchung, ob große QTTR-Veränderungen reversibel sind oder langfristige Trends anzeigen\n",
    "\n",
    "5. **Entwicklung und Empfehlungen**\n",
    "\n",
    "* Ableitung von Erkenntnissen zur Verbesserung der Interpretation von QTTR-Werten\n",
    "* Formulierung von Empfehlungen für Spieler, Trainer und Verbände zum Umgang mit QTTR-Schwankungen\n",
    "* Bei Bedarf: Vorschläge zur Optimierung der QTTR-Berechnungsmethodik\n",
    "\n",
    "### Zur Frage der Verbesserung der QTTR-Berechnung\n",
    "\n",
    "Während das primäre Ziel dieser Forschung nicht die direkte Modifikation des QTTR-Berechnungsalgorithmus ist, könnten die Ergebnisse durchaus zur Identifikation von Verbesserungspotentialen führen. Sollten systematische Schwächen oder Verzerrungen im aktuellen System gefunden werden, werden wir evidenzbasierte Empfehlungen zur Verfeinerung der Berechnungsmethodik vorlegen.\n",
    "<br>\n",
    "Die Forschung zielt in erster Linie darauf ab, ein besseres Verständnis des bestehenden Systems zu entwickeln und dessen Interpretation zu verbessern, nicht notwendigerweise dessen grundlegende Mechanik zu verändern. Eventuelle Vorschläge zur Anpassung der QTTR-Berechnung werden nur auf Basis robuster empirischer Evidenz formuliert.\n",
    "\n",
    "### Datenbasis und methodischer Ansatz\n",
    "\n",
    "* Verwendung von QTTR-Datensätzen von 2011 - 2023 für Analysen\n",
    "* Statistische Analysen zu besonders auffälligen QTTR-Veränderungen\n",
    "* Berücksichtigung kontextueller Faktoren (Regeländerungen, Materialentwicklungen, Strukturveränderungen im Wettkampfsystem)\n",
    "\n",
    "Durch diesen umfassenden Ansatz strebt das Projekt an, sowohl wissenschaftlich fundierte Erkenntnisse über die Dynamik des QTTR-Systems zu gewinnen als auch praktisch anwendbare Empfehlungen für alle Beteiligten im Tischtennissport zu entwickeln."
   ]
  }
 ],
 "metadata": {
  "language_info": {
   "name": "python"
  }
 },
 "nbformat": 4,
 "nbformat_minor": 2
}
